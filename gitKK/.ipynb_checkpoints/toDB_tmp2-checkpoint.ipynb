{
 "cells": [
  {
   "cell_type": "markdown",
   "metadata": {},
   "source": [
    "#### 概觀測試"
   ]
  },
  {
   "cell_type": "code",
   "execution_count": null,
   "metadata": {},
   "outputs": [],
   "source": [
    "# # overview test\n",
    "# import time\n",
    "# headers={'user-agent':'Mozilla/5.0 (Linux; Android 6.0; Nexus 5 Build/MRA58N) AppleWebKit/537.36 (KHTML, like Gecko) Chrome/96.0.4664.93 Mobile Safari/537.36',\n",
    "#          'accept-language': 'zh_TW'}\n",
    "# proxy=['60.251.62.27','47.243.196.231','54.37.160.93','199.19.226.12','160.16.233.90','36.234.46.7','23.254.250.94']\n",
    "# domain='https://www.klook.com'\n",
    "# start=4\n",
    "# for s in range(1,3):\n",
    "#                 tmp=requests.get(domain+'/v1/experiencesrv/category/activity?frontend_id_list=19&size=24&start='+str(s),\n",
    "#                                 headers=headers,\n",
    "#                                 proxies={'http':'http://'+random.choice(proxy)})\n",
    "#                 time.sleep(5)\n"
   ]
  },
  {
   "cell_type": "code",
   "execution_count": null,
   "metadata": {},
   "outputs": [],
   "source": [
    "# def test(l,t):\n",
    "#     l=l.split(\"/\")[-2].split(\"-\")[0]\n",
    "#     if(\"|\" in t):\n",
    "#         t=int(t.split(\"|\")[0].replace('則評價',\"\"))\n",
    "#     else:\n",
    "#         t=0\n",
    "#     if(t%10==0.0):\n",
    "#         p=int(t/10)\n",
    "#     else:\n",
    "#         p=int(t/10)+1\n",
    "#     print(l,t,p)\n",
    "# activity=tmp.json()['result']['activities']\n",
    "# for a in (activity):\n",
    "#     name=a['title']\n",
    "#     link=a['deep_link']\n",
    "#     talkcnt=a['review_hint']\n",
    "#     star=a['review_star']\n",
    "#     test(link,talkcnt)\n",
    "#     print(name,link,talkcnt,star)"
   ]
  },
  {
   "cell_type": "code",
   "execution_count": null,
   "metadata": {},
   "outputs": [],
   "source": [
    "# tmpC=requests.get('https://www.klook.com/v1/usrcsrv/activities/51850/reviews?page=2&limit=10&star_num=&lang=&sort_type=0&only_image=false&translate=1',\n",
    "#                 headers=headers,\n",
    "#                 proxies={'http':'http://'+random.choice(proxy)})\n",
    "# item=tmpC.json()['result']['item']\n",
    "# for a in (item):\n",
    "#     comment=a['content']\n",
    "#     rank=a['rating']/20\n",
    "#     print(comment,rank)"
   ]
  },
  {
   "cell_type": "code",
   "execution_count": null,
   "metadata": {},
   "outputs": [],
   "source": [
    "#tmp1"
   ]
  },
  {
   "cell_type": "markdown",
   "metadata": {},
   "source": [
    "# 爬取&儲存"
   ]
  },
  {
   "cell_type": "code",
   "execution_count": null,
   "metadata": {},
   "outputs": [],
   "source": [
    "def request(key,num,tag):\n",
    "    \n",
    "    try:\n",
    "        time.sleep(3)\n",
    "        if key=='product': \n",
    "            for s in range(1,num+1):\n",
    "                url=requests.get(domain+'/v1/experiencesrv/category/activity?frontend_id_list=19&size=24&start='+str(s),\n",
    "                                headers=headers,\n",
    "                                proxies={'http':'http://'+random.choice(proxy)})\n",
    "                time.sleep(5)\n",
    "                if url.status_code==200:\n",
    "                    getList(url)\n",
    "\n",
    "        elif key=='comment':\n",
    "            for s in range(1,num+1):\n",
    "                url=requests.get(domain+'/v1/usrcsrv/activities/'+tag+'/reviews?page='+str(s)+'&limit=10&star_num=&lang=&sort_type=0&only_image=false&translate=1',\n",
    "                        headers=headers,\n",
    "                        proxies={'http':'http://'+random.choice(proxy)})\n",
    "                time.sleep(5)\n",
    "                if url.status_code==200:\n",
    "                    getComment(url,tag)\n",
    "        else:\n",
    "            print('try again')\n",
    "\n",
    "        saveData(\"\",2)\n",
    "    except Exception as e:\n",
    "        print(e)\n",
    "#soup=BeautifulSoup(url.text,'html.parser')\n",
    "#soup.find_all('h3',class_='activity-card-title')"
   ]
  },
  {
   "cell_type": "code",
   "execution_count": null,
   "metadata": {},
   "outputs": [],
   "source": [
    "def parse(link,cnt):\n",
    "\n",
    "    actID=link.split(\"/\")[-2].split(\"-\")[0]\n",
    "    if(\"|\" in cnt):\n",
    "        cnt=int(cnt.split(\"|\")[0].replace('則評價',\"\"))\n",
    "    else:\n",
    "        cnt=0\n",
    "    if(cnt%10==0.0):\n",
    "        page=int(cnt/10)\n",
    "    else:\n",
    "        page=int(cnt/10)+1\n",
    "   # print(actID,cnt,page)\n",
    "    request('comment',page,actID)\n",
    "    "
   ]
  },
  {
   "cell_type": "code",
   "execution_count": null,
   "metadata": {},
   "outputs": [],
   "source": [
    "def getList(url):\n",
    "    activity=url.json()['result']['activities']\n",
    "    global times\n",
    "    for a in activity:\n",
    "        name=a['title']\n",
    "        link=a['deep_link']\n",
    "        talkcnt=a['review_hint']\n",
    "        star=a['review_star']\n",
    "        pid=times\n",
    "        saveData([pid,name,link,talkcnt,star],0)\n",
    "        parse(link,talkcnt)\n",
    "        times+=1\n",
    "\n",
    "\n",
    "        "
   ]
  },
  {
   "cell_type": "code",
   "execution_count": null,
   "metadata": {},
   "outputs": [],
   "source": [
    "def getComment(url,tag):\n",
    "    try:\n",
    "        item=url.json()['result']['item']\n",
    "        for a in (item):\n",
    "            comment=a['content']\n",
    "            rank=a['rating']/20\n",
    "            cid=tag\n",
    "            saveData([cid,comment,rank],1)\n",
    "    except:\n",
    "        pass"
   ]
  },
  {
   "cell_type": "code",
   "execution_count": null,
   "metadata": {},
   "outputs": [],
   "source": [
    "def saveData(arg,key):\n",
    "    CID,PID=0.0,0.0\n",
    "    product,ref,cnt,score,word,rate=\"\",\"\",0.0,0.0,\"\",0.0\n",
    "    global data,tmp1,tmp2,ALLdic2,alldict2\n",
    "    if key==0:\n",
    "        CID=arg[0]\n",
    "        product=arg[1]\n",
    "        ref=arg[2]\n",
    "        cnt=arg[3]\n",
    "        score=arg[4]\n",
    "        tmp1=dict(CID=CID,product=product,ref=ref,cnt=cnt,score=score)\n",
    "        show(dict(CID=CID,product=product,ref=ref,cnt=cnt,score=score))\n",
    "    elif key==1:\n",
    "        PID=arg[0]\n",
    "        word=arg[1]\n",
    "        rate=arg[2]\n",
    "        tmp2=dict(PID=PID,word=word,rate=rate)\n",
    "        alldict2.append(tmp2)\n",
    "        ALLdic2={'opinion':alldict2}\n",
    "        show(dict(PID=PID,word=word,rate=rate))\n",
    "    elif key==2:\n",
    "        data.append([tmp1,ALLdic2])\n",
    "        print(\"-----nextList----\")\n",
    "        toDB(tmp1,ALLdic2)\n",
    "        alldict2.clear()\n",
    "    else:\n",
    "        print('no value')\n",
    "    \n",
    "    \n",
    "        \n",
    "\n",
    "    "
   ]
  },
  {
   "cell_type": "code",
   "execution_count": null,
   "metadata": {},
   "outputs": [],
   "source": [
    "def show(info):\n",
    "    print(info)"
   ]
  },
  {
   "cell_type": "code",
   "execution_count": null,
   "metadata": {},
   "outputs": [],
   "source": [
    "#pip install pymongo"
   ]
  },
  {
   "cell_type": "code",
   "execution_count": null,
   "metadata": {},
   "outputs": [],
   "source": [
    "import pymongo\n",
    "client=pymongo.MongoClient('localhost',27017)\n",
    "testdb=client['TEST']\n",
    "tmp=testdb['TMP']\n",
    "def toDB(dic1,dic2):\n",
    "    try:\n",
    "        global yid\n",
    "        dic1.update(dic2)\n",
    "        yid.update(dic1)\n",
    "        if yid in tmp.find():\n",
    "            tmp.update_one({},{\"$set\":yid})\n",
    "        else:\n",
    "            tmp.insert_one(yid)\n",
    "    except Exception as e:\n",
    "        print(e)\n",
    "    print(\"----save----\")\n"
   ]
  },
  {
   "cell_type": "code",
   "execution_count": null,
   "metadata": {},
   "outputs": [],
   "source": [
    "import requests\n",
    "from bs4 import BeautifulSoup\n",
    "import random\n",
    "import time\n",
    "if __name__=='__main__':\n",
    "    headers={'user-agent':'Mozilla/5.0 (Linux; Android 6.0; Nexus 5 Build/MRA58N) AppleWebKit/537.36 (KHTML, like Gecko) Chrome/96.0.4664.93 Mobile Safari/537.36',\n",
    "         'accept-language': 'zh_TW'}\n",
    "    proxy=['60.251.62.27','47.243.196.231','54.37.160.93','199.19.226.12','160.16.233.90','36.234.46.7','23.254.250.94']\n",
    "    domain='https://www.klook.com'\n",
    "    start=4\n",
    "    NO=0\n",
    "    times=0\n",
    "    data=[]; tmp1={}; tmp2={}\n",
    "    ALLdic2={};alldict2=[]\n",
    "    yid={\"ID\":times}\n",
    "    request('product',start,NO)\n",
    "    show(data)\n",
    "    "
   ]
  }
 ],
 "metadata": {
  "kernelspec": {
   "display_name": "Python 3",
   "language": "python",
   "name": "python3"
  }
 },
 "nbformat": 4,
 "nbformat_minor": 2
}
