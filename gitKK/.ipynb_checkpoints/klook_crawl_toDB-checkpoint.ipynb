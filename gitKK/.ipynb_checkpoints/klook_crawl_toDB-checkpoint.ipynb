{
 "cells": [
  {
   "cell_type": "markdown",
   "metadata": {},
   "source": [
    "# 概觀測試"
   ]
  },
  {
   "cell_type": "code",
   "execution_count": 1,
   "metadata": {},
   "outputs": [],
   "source": [
    "# # overview test\n",
    "# import time\n",
    "# headers={'user-agent':'Mozilla/5.0 (Linux; Android 6.0; Nexus 5 Build/MRA58N) AppleWebKit/537.36 (KHTML, like Gecko) Chrome/96.0.4664.93 Mobile Safari/537.36',\n",
    "#          'accept-language': 'zh_TW'}\n",
    "# proxy=['60.251.62.27','47.243.196.231','54.37.160.93','199.19.226.12','160.16.233.90','36.234.46.7','23.254.250.94']\n",
    "# domain='https://www.klook.com'\n",
    "# start=4\n",
    "# for s in range(1,3):\n",
    "#                 tmp=requests.get(domain+'/v1/experiencesrv/category/activity?frontend_id_list=19&size=24&start='+str(s),\n",
    "#                                 headers=headers,\n",
    "#                                 proxies={'http':'http://'+random.choice(proxy)})\n",
    "#                 time.sleep(5)\n"
   ]
  },
  {
   "cell_type": "code",
   "execution_count": 2,
   "metadata": {},
   "outputs": [],
   "source": [
    "# def test(l,t):\n",
    "#     l=l.split(\"/\")[-2].split(\"-\")[0]\n",
    "#     if(\"|\" in t):\n",
    "#         t=int(t.split(\"|\")[0].replace('則評價',\"\"))\n",
    "#     else:\n",
    "#         t=0\n",
    "#     if(t%10==0.0):\n",
    "#         p=int(t/10)\n",
    "#     else:\n",
    "#         p=int(t/10)+1\n",
    "#     print(l,t,p)\n",
    "# activity=tmp.json()['result']['activities']\n",
    "# for a in (activity):\n",
    "#     name=a['title']\n",
    "#     link=a['deep_link']\n",
    "#     talkcnt=a['review_hint']\n",
    "#     star=a['review_star']\n",
    "#     test(link,talkcnt)\n",
    "#     print(name,link,talkcnt,star)"
   ]
  },
  {
   "cell_type": "code",
   "execution_count": 3,
   "metadata": {},
   "outputs": [],
   "source": [
    "# tmpC=requests.get('https://www.klook.com/v1/usrcsrv/activities/51850/reviews?page=2&limit=10&star_num=&lang=&sort_type=0&only_image=false&translate=1',\n",
    "#                 headers=headers,\n",
    "#                 proxies={'http':'http://'+random.choice(proxy)})\n",
    "# item=tmpC.json()['result']['item']\n",
    "# for a in (item):\n",
    "#     comment=a['content']\n",
    "#     rank=a['rating']/20\n",
    "#     print(comment,rank)"
   ]
  },
  {
   "cell_type": "code",
   "execution_count": 30,
   "metadata": {
    "collapsed": true
   },
   "outputs": [
    {
     "data": {
      "text/plain": [
       "{'CID': 0,\n",
       " 'product': '感謝祭67折起｜台北｜旅森山｜加州露營車自駕體驗｜台北取車',\n",
       " 'ref': '/zh-TW/activity/58082-campervan-self-driving-experience-taipei/',\n",
       " 'cnt': '18 則評價 | 50+ 人參加過',\n",
       " 'score': '5.0',\n",
       " 'opinion': [{'PID': '58082',\n",
       "   'word': '接待人員講得很仔細耗時30-40分鐘講解車子的使用\\n客服人員透過Line從訂好後（行前）出發到整個旅程結束都很nice幫忙回應問題\\n讓我們從需要打包什麼到一路上車子遇到使用困惑\\n都可以速速得知如何應對\\n露營車比較大台（第一次開這麼大的車）\\n開起來其實比想像中容易\\n不過停車格需要找大一些而且沒有高度限制的\\n規劃旅程時要考慮到\\n露營車旅程彈性也不受下雨影響\\n是非常有趣的體驗',\n",
       "   'rate': 5.0},\n",
       "  {'PID': '58082',\n",
       "   'word': '旅森山的服務真的很好，我們剛回台灣不熟，他們很有耐心的回答我們所有問題。讓我們很放心。\\n這是一個難忘旅程，車子開哪就覺的家就在哪，上山下海很近大自然，身心都很放鬆。\\n我們一家三口（小孩四歲）住的很舒服。有冷氣，在營地插電，很舒服。床是硬一點的但我滿喜歡，下層給小孩的墊子雖然分兩片無法綁一起，但孩子還是睡得不錯。路上也碰到很多開露營車的人，大家聊聊共同興趣，感覺很好',\n",
       "   'rate': 5.0},\n",
       "  {'PID': '58082',\n",
       "   'word': '這是次第一次駕駛露營車露營，因為車上配備齊全，讓我們感到相當安心與放鬆！並且深怕孩子再大些，可能就無法像現在這樣高配合度的到處睡到處玩。因此果斷租下，享受了這次愉快的時光！\\n\\n下午若想再露營車出遊，一定指名旅森山！',\n",
       "   'rate': 5.0},\n",
       "  {'PID': '58082',\n",
       "   'word': '非常滿意！有問題傳line都可以即時收到回應, 車上也有暖氣和冷氣 冬天夏天都很適合！ 床也不會太小！ 車尾帳兩人使用剛剛好 整體非常推薦♥️',\n",
       "   'rate': 5.0},\n",
       "  {'PID': '58082',\n",
       "   'word': '完美的公路之旅，超值的親子回憶！一同在車裡慶生、一同看電影、一同勇闖蘇花公路、一同聽high歌車震、一同車後帳享受清晨！',\n",
       "   'rate': 5.0},\n",
       "  {'PID': '58082',\n",
       "   'word': '車上的東西應有盡有，冰箱、投影機、風扇、床墊、棉被、藍芽喇叭、遮光布等 身高較高的人還可以延長床墊，男友175公分綽綽有餘，床墊很好睡，棉被也夠暖和 車子也有付110v插座跟USB插孔，完全不用帶行動電源，十分夠用 幾個小建議就是，風扇那塊是沒有窗戶的，在行車過程中，風聲比較吵雜 還有一個是車內使用投影機時，沒有良好的位置或平台能架設，焦距跟大小比較不好調 這趟旅程，體驗過後難以忘懷，隨時可以停下來享受大自然美景，超開心，推薦給想邊玩邊睡的人',\n",
       "   'rate': 5.0},\n",
       "  {'PID': '58082',\n",
       "   'word': '旅森山客服非常貼心仔細，每當我們遇到對露營器材不熟悉有狀況時，都在很短時間內回覆處理。\\n車況不錯，駕駛中沒有遇到太多困難，沒有駕駛大型車體經驗也能很好上手。\\n建議自己要額外攜帶車外用的營燈，只靠車內的燈光有點不足。\\n不是露營老手的話，還是建議找有水有電有衛浴設備的露營區，會比較適合',\n",
       "   'rate': 5.0},\n",
       "  {'PID': '58082',\n",
       "   'word': '客服回覆速度超快，出發前的問題回應也很細心完整，如果自己帶點佈置的東西還可以打造跟別人不一樣的風格，接待Vincent 解釋得很清楚又貼心，謝謝你們，超好玩！',\n",
       "   'rate': 5.0},\n",
       "  {'PID': '58082',\n",
       "   'word': '比較過不少家露營車，雖然價格不是最便宜，不過肯定是最好看的！內裝有不少木作，只要自己帶一點裝飾（燈飾、露營風毛毯）PO上IG整個會被朋友問爆，加個油也被問，默默遇到很多露營同好。如果有遇到車子任何問題，可以用Line詢問，他們24小時有人在，回覆迅速又專業，令人感到非常安心！推薦花蓮加利利海露營區，海景第一排，睡醒就可以看到整片海，超美超療癒，很值得的一趟旅行！',\n",
       "   'rate': 5.0},\n",
       "  {'PID': '58082', 'word': '謝謝你們！\\n這樣的生活給我們很多力量\\n細心的服務', 'rate': 5.0}]}"
      ]
     },
     "execution_count": 30,
     "metadata": {},
     "output_type": "execute_result"
    }
   ],
   "source": [
    "#tmp1"
   ]
  },
  {
   "cell_type": "markdown",
   "metadata": {},
   "source": [
    "# 爬取資料"
   ]
  },
  {
   "cell_type": "code",
   "execution_count": 4,
   "metadata": {},
   "outputs": [],
   "source": [
    "def request(key,num,tag):\n",
    "    \n",
    " \n",
    "    time.sleep(3)\n",
    "    if key=='product': \n",
    "        for s in range(1,num+1):\n",
    "            url=requests.get(domain+'/v1/experiencesrv/category/activity?frontend_id_list=19&size=24&start='+str(s),\n",
    "                            headers=headers,\n",
    "                            proxies={'http':'http://'+random.choice(proxy)})\n",
    "            time.sleep(5)\n",
    "            if url.status_code==200:\n",
    "                getList(url)\n",
    "               \n",
    "    elif key=='comment':\n",
    "        for s in range(1,num+1):\n",
    "            url=requests.get(domain+'/v1/usrcsrv/activities/'+tag+'/reviews?page='+str(s)+'&limit=10&star_num=&lang=&sort_type=0&only_image=false&translate=1',\n",
    "                    headers=headers,\n",
    "                    proxies={'http':'http://'+random.choice(proxy)})\n",
    "            time.sleep(5)\n",
    "            if url.status_code==200:\n",
    "                getComment(url,tag)\n",
    "    else:\n",
    "        print('try again')\n",
    "    \n",
    "    saveData(\"\",2)\n",
    "#soup=BeautifulSoup(url.text,'html.parser')\n",
    "#soup.find_all('h3',class_='activity-card-title')"
   ]
  },
  {
   "cell_type": "code",
   "execution_count": 5,
   "metadata": {},
   "outputs": [],
   "source": [
    "def parse(link,cnt):\n",
    "\n",
    "    actID=link.split(\"/\")[-2].split(\"-\")[0]\n",
    "    if(\"|\" in cnt):\n",
    "        cnt=int(cnt.split(\"|\")[0].replace('則評價',\"\"))\n",
    "    else:\n",
    "        cnt=0\n",
    "    if(cnt%10==0.0):\n",
    "        page=int(cnt/10)\n",
    "    else:\n",
    "        page=int(cnt/10)+1\n",
    "   # print(actID,cnt,page)\n",
    "    request('comment',1,actID)\n",
    "    "
   ]
  },
  {
   "cell_type": "code",
   "execution_count": 6,
   "metadata": {},
   "outputs": [],
   "source": [
    "def getList(url):\n",
    "    activity=url.json()['result']['activities']\n",
    "    global times\n",
    "    for a in activity:\n",
    "        name=a['title']\n",
    "        link=a['deep_link']\n",
    "        talkcnt=a['review_hint']\n",
    "        star=a['review_star']\n",
    "        pid=times\n",
    "        saveData([pid,name,link,talkcnt,star],0)\n",
    "        parse(link,talkcnt)\n",
    "        times+=1\n",
    "\n",
    "\n",
    "        "
   ]
  },
  {
   "cell_type": "code",
   "execution_count": 7,
   "metadata": {},
   "outputs": [],
   "source": [
    "def getComment(url,tag):\n",
    "    try:\n",
    "        item=url.json()['result']['item']\n",
    "        for a in (item):\n",
    "            comment=a['content']\n",
    "            rank=a['rating']/20\n",
    "            cid=tag\n",
    "            saveData([cid,comment,rank],1)\n",
    "    except:\n",
    "        pass"
   ]
  },
  {
   "cell_type": "code",
   "execution_count": 21,
   "metadata": {},
   "outputs": [],
   "source": [
    "def saveData(arg,key):\n",
    "    CID,PID=0.0,0.0\n",
    "    product,ref,cnt,score,word,rate=\"\",\"\",0.0,0.0,\"\",0.0\n",
    "    global data,tmp1,tmp2,ALLdic2,alldict2\n",
    "    if key==0:\n",
    "        CID=arg[0]\n",
    "        product=arg[1]\n",
    "        ref=arg[2]\n",
    "        cnt=arg[3]\n",
    "        score=arg[4]\n",
    "        tmp1=dict(CID=CID,product=product,ref=ref,cnt=cnt,score=score)\n",
    "        show(dict(CID=CID,product=product,ref=ref,cnt=cnt,score=score))\n",
    "    elif key==1:\n",
    "        PID=arg[0]\n",
    "        word=arg[1]\n",
    "        rate=arg[2]\n",
    "        tmp2=dict(PID=PID,word=word,rate=rate)\n",
    "        alldict2.append(tmp2)\n",
    "        ALLdic2={'opinion':alldict2}\n",
    "        show(dict(PID=PID,word=word,rate=rate))\n",
    "    elif key==2:\n",
    "        data.append([tmp1,ALLdic2])\n",
    "        print(\"-----nextList----\")\n",
    "        toDB(tmp1,ALLdic2)\n",
    "        alldict2.clear()\n",
    "    else:\n",
    "        print('no value')\n",
    "    \n",
    "    \n",
    "        \n",
    "\n",
    "    "
   ]
  },
  {
   "cell_type": "code",
   "execution_count": 9,
   "metadata": {},
   "outputs": [],
   "source": [
    "def show(info):\n",
    "    print(info)"
   ]
  },
  {
   "cell_type": "code",
   "execution_count": 10,
   "metadata": {},
   "outputs": [],
   "source": [
    "#pip install pymongo"
   ]
  },
  {
   "cell_type": "code",
   "execution_count": 31,
   "metadata": {},
   "outputs": [],
   "source": [
    "import pymongo\n",
    "client=pymongo.MongoClient('localhost',27017)\n",
    "mydb=client['db']\n",
    "INFO=mydb['info']\n",
    "def toDB(dic1,dic2):\n",
    "    dic1.update(dic2)\n",
    "    INFO.insert_one(tmp1)\n",
    "    print(\"----save----\")\n"
   ]
  },
  {
   "cell_type": "code",
   "execution_count": 41,
   "metadata": {},
   "outputs": [
    {
     "name": "stdout",
     "output_type": "stream",
     "text": [
      "0\n"
     ]
    },
    {
     "ename": "ServerSelectionTimeoutError",
     "evalue": "localhost:27017: [WinError 10061] 無法連線，因為目標電腦拒絕連線。, Timeout: 30s, Topology Description: <TopologyDescription id: 61d6835847312e0e391b1b42, topology_type: Unknown, servers: [<ServerDescription ('localhost', 27017) server_type: Unknown, rtt: None, error=AutoReconnect('localhost:27017: [WinError 10061] 無法連線，因為目標電腦拒絕連線。')>]>",
     "output_type": "error",
     "traceback": [
      "\u001b[1;31m---------------------------------------------------------------------------\u001b[0m",
      "\u001b[1;31mServerSelectionTimeoutError\u001b[0m               Traceback (most recent call last)",
      "\u001b[1;32m<ipython-input-41-243dc04958fb>\u001b[0m in \u001b[0;36m<module>\u001b[1;34m\u001b[0m\n\u001b[0;32m      4\u001b[0m \u001b[0mprint\u001b[0m\u001b[1;33m(\u001b[0m\u001b[0mtmp1\u001b[0m\u001b[1;33m[\u001b[0m\u001b[1;34m'CID'\u001b[0m\u001b[1;33m]\u001b[0m\u001b[1;33m)\u001b[0m\u001b[1;33m\u001b[0m\u001b[1;33m\u001b[0m\u001b[0m\n\u001b[0;32m      5\u001b[0m \u001b[1;33m\u001b[0m\u001b[0m\n\u001b[1;32m----> 6\u001b[1;33m \u001b[0mINFO\u001b[0m\u001b[1;33m.\u001b[0m\u001b[0minsert_one\u001b[0m\u001b[1;33m(\u001b[0m\u001b[0mtmp1\u001b[0m\u001b[1;33m)\u001b[0m\u001b[1;33m\u001b[0m\u001b[1;33m\u001b[0m\u001b[0m\n\u001b[0m",
      "\u001b[1;32m~\\Anaconda3\\lib\\site-packages\\pymongo\\collection.py\u001b[0m in \u001b[0;36minsert_one\u001b[1;34m(self, document, bypass_document_validation, session)\u001b[0m\n\u001b[0;32m    525\u001b[0m                 \u001b[0mdocument\u001b[0m\u001b[1;33m,\u001b[0m \u001b[0mordered\u001b[0m\u001b[1;33m=\u001b[0m\u001b[1;32mTrue\u001b[0m\u001b[1;33m,\u001b[0m \u001b[0mcheck_keys\u001b[0m\u001b[1;33m=\u001b[0m\u001b[1;32mFalse\u001b[0m\u001b[1;33m,\u001b[0m\u001b[1;33m\u001b[0m\u001b[1;33m\u001b[0m\u001b[0m\n\u001b[0;32m    526\u001b[0m                 \u001b[0mwrite_concern\u001b[0m\u001b[1;33m=\u001b[0m\u001b[0mwrite_concern\u001b[0m\u001b[1;33m,\u001b[0m \u001b[0mop_id\u001b[0m\u001b[1;33m=\u001b[0m\u001b[1;32mNone\u001b[0m\u001b[1;33m,\u001b[0m\u001b[1;33m\u001b[0m\u001b[1;33m\u001b[0m\u001b[0m\n\u001b[1;32m--> 527\u001b[1;33m                 bypass_doc_val=bypass_document_validation, session=session),\n\u001b[0m\u001b[0;32m    528\u001b[0m             write_concern.acknowledged)\n\u001b[0;32m    529\u001b[0m \u001b[1;33m\u001b[0m\u001b[0m\n",
      "\u001b[1;32m~\\Anaconda3\\lib\\site-packages\\pymongo\\collection.py\u001b[0m in \u001b[0;36m_insert_one\u001b[1;34m(self, doc, ordered, check_keys, write_concern, op_id, bypass_doc_val, session)\u001b[0m\n\u001b[0;32m    473\u001b[0m \u001b[1;33m\u001b[0m\u001b[0m\n\u001b[0;32m    474\u001b[0m         self.__database.client._retryable_write(\n\u001b[1;32m--> 475\u001b[1;33m             acknowledged, _insert_command, session)\n\u001b[0m\u001b[0;32m    476\u001b[0m \u001b[1;33m\u001b[0m\u001b[0m\n\u001b[0;32m    477\u001b[0m         \u001b[1;32mif\u001b[0m \u001b[1;32mnot\u001b[0m \u001b[0misinstance\u001b[0m\u001b[1;33m(\u001b[0m\u001b[0mdoc\u001b[0m\u001b[1;33m,\u001b[0m \u001b[0mRawBSONDocument\u001b[0m\u001b[1;33m)\u001b[0m\u001b[1;33m:\u001b[0m\u001b[1;33m\u001b[0m\u001b[1;33m\u001b[0m\u001b[0m\n",
      "\u001b[1;32m~\\Anaconda3\\lib\\site-packages\\pymongo\\mongo_client.py\u001b[0m in \u001b[0;36m_retryable_write\u001b[1;34m(self, retryable, func, session)\u001b[0m\n\u001b[0;32m   1337\u001b[0m     \u001b[1;32mdef\u001b[0m \u001b[0m_retryable_write\u001b[0m\u001b[1;33m(\u001b[0m\u001b[0mself\u001b[0m\u001b[1;33m,\u001b[0m \u001b[0mretryable\u001b[0m\u001b[1;33m,\u001b[0m \u001b[0mfunc\u001b[0m\u001b[1;33m,\u001b[0m \u001b[0msession\u001b[0m\u001b[1;33m)\u001b[0m\u001b[1;33m:\u001b[0m\u001b[1;33m\u001b[0m\u001b[1;33m\u001b[0m\u001b[0m\n\u001b[0;32m   1338\u001b[0m         \u001b[1;34m\"\"\"Internal retryable write helper.\"\"\"\u001b[0m\u001b[1;33m\u001b[0m\u001b[1;33m\u001b[0m\u001b[0m\n\u001b[1;32m-> 1339\u001b[1;33m         \u001b[1;32mwith\u001b[0m \u001b[0mself\u001b[0m\u001b[1;33m.\u001b[0m\u001b[0m_tmp_session\u001b[0m\u001b[1;33m(\u001b[0m\u001b[0msession\u001b[0m\u001b[1;33m)\u001b[0m \u001b[1;32mas\u001b[0m \u001b[0ms\u001b[0m\u001b[1;33m:\u001b[0m\u001b[1;33m\u001b[0m\u001b[1;33m\u001b[0m\u001b[0m\n\u001b[0m\u001b[0;32m   1340\u001b[0m             \u001b[1;32mreturn\u001b[0m \u001b[0mself\u001b[0m\u001b[1;33m.\u001b[0m\u001b[0m_retry_with_session\u001b[0m\u001b[1;33m(\u001b[0m\u001b[0mretryable\u001b[0m\u001b[1;33m,\u001b[0m \u001b[0mfunc\u001b[0m\u001b[1;33m,\u001b[0m \u001b[0ms\u001b[0m\u001b[1;33m,\u001b[0m \u001b[1;32mNone\u001b[0m\u001b[1;33m)\u001b[0m\u001b[1;33m\u001b[0m\u001b[1;33m\u001b[0m\u001b[0m\n\u001b[0;32m   1341\u001b[0m \u001b[1;33m\u001b[0m\u001b[0m\n",
      "\u001b[1;32m~\\Anaconda3\\lib\\contextlib.py\u001b[0m in \u001b[0;36m__enter__\u001b[1;34m(self)\u001b[0m\n\u001b[0;32m    110\u001b[0m         \u001b[1;32mdel\u001b[0m \u001b[0mself\u001b[0m\u001b[1;33m.\u001b[0m\u001b[0margs\u001b[0m\u001b[1;33m,\u001b[0m \u001b[0mself\u001b[0m\u001b[1;33m.\u001b[0m\u001b[0mkwds\u001b[0m\u001b[1;33m,\u001b[0m \u001b[0mself\u001b[0m\u001b[1;33m.\u001b[0m\u001b[0mfunc\u001b[0m\u001b[1;33m\u001b[0m\u001b[1;33m\u001b[0m\u001b[0m\n\u001b[0;32m    111\u001b[0m         \u001b[1;32mtry\u001b[0m\u001b[1;33m:\u001b[0m\u001b[1;33m\u001b[0m\u001b[1;33m\u001b[0m\u001b[0m\n\u001b[1;32m--> 112\u001b[1;33m             \u001b[1;32mreturn\u001b[0m \u001b[0mnext\u001b[0m\u001b[1;33m(\u001b[0m\u001b[0mself\u001b[0m\u001b[1;33m.\u001b[0m\u001b[0mgen\u001b[0m\u001b[1;33m)\u001b[0m\u001b[1;33m\u001b[0m\u001b[1;33m\u001b[0m\u001b[0m\n\u001b[0m\u001b[0;32m    113\u001b[0m         \u001b[1;32mexcept\u001b[0m \u001b[0mStopIteration\u001b[0m\u001b[1;33m:\u001b[0m\u001b[1;33m\u001b[0m\u001b[1;33m\u001b[0m\u001b[0m\n\u001b[0;32m    114\u001b[0m             \u001b[1;32mraise\u001b[0m \u001b[0mRuntimeError\u001b[0m\u001b[1;33m(\u001b[0m\u001b[1;34m\"generator didn't yield\"\u001b[0m\u001b[1;33m)\u001b[0m \u001b[1;32mfrom\u001b[0m \u001b[1;32mNone\u001b[0m\u001b[1;33m\u001b[0m\u001b[1;33m\u001b[0m\u001b[0m\n",
      "\u001b[1;32m~\\Anaconda3\\lib\\site-packages\\pymongo\\mongo_client.py\u001b[0m in \u001b[0;36m_tmp_session\u001b[1;34m(self, session, close)\u001b[0m\n\u001b[0;32m   1614\u001b[0m             \u001b[1;32mreturn\u001b[0m\u001b[1;33m\u001b[0m\u001b[1;33m\u001b[0m\u001b[0m\n\u001b[0;32m   1615\u001b[0m \u001b[1;33m\u001b[0m\u001b[0m\n\u001b[1;32m-> 1616\u001b[1;33m         \u001b[0ms\u001b[0m \u001b[1;33m=\u001b[0m \u001b[0mself\u001b[0m\u001b[1;33m.\u001b[0m\u001b[0m_ensure_session\u001b[0m\u001b[1;33m(\u001b[0m\u001b[0msession\u001b[0m\u001b[1;33m)\u001b[0m\u001b[1;33m\u001b[0m\u001b[1;33m\u001b[0m\u001b[0m\n\u001b[0m\u001b[0;32m   1617\u001b[0m         \u001b[1;32mif\u001b[0m \u001b[0ms\u001b[0m\u001b[1;33m:\u001b[0m\u001b[1;33m\u001b[0m\u001b[1;33m\u001b[0m\u001b[0m\n\u001b[0;32m   1618\u001b[0m             \u001b[1;32mtry\u001b[0m\u001b[1;33m:\u001b[0m\u001b[1;33m\u001b[0m\u001b[1;33m\u001b[0m\u001b[0m\n",
      "\u001b[1;32m~\\Anaconda3\\lib\\site-packages\\pymongo\\mongo_client.py\u001b[0m in \u001b[0;36m_ensure_session\u001b[1;34m(self, session)\u001b[0m\n\u001b[0;32m   1601\u001b[0m             \u001b[1;31m# Don't make implicit sessions causally consistent. Applications\u001b[0m\u001b[1;33m\u001b[0m\u001b[1;33m\u001b[0m\u001b[1;33m\u001b[0m\u001b[0m\n\u001b[0;32m   1602\u001b[0m             \u001b[1;31m# should always opt-in.\u001b[0m\u001b[1;33m\u001b[0m\u001b[1;33m\u001b[0m\u001b[1;33m\u001b[0m\u001b[0m\n\u001b[1;32m-> 1603\u001b[1;33m             \u001b[1;32mreturn\u001b[0m \u001b[0mself\u001b[0m\u001b[1;33m.\u001b[0m\u001b[0m__start_session\u001b[0m\u001b[1;33m(\u001b[0m\u001b[1;32mTrue\u001b[0m\u001b[1;33m,\u001b[0m \u001b[0mcausal_consistency\u001b[0m\u001b[1;33m=\u001b[0m\u001b[1;32mFalse\u001b[0m\u001b[1;33m)\u001b[0m\u001b[1;33m\u001b[0m\u001b[1;33m\u001b[0m\u001b[0m\n\u001b[0m\u001b[0;32m   1604\u001b[0m         \u001b[1;32mexcept\u001b[0m \u001b[1;33m(\u001b[0m\u001b[0mConfigurationError\u001b[0m\u001b[1;33m,\u001b[0m \u001b[0mInvalidOperation\u001b[0m\u001b[1;33m)\u001b[0m\u001b[1;33m:\u001b[0m\u001b[1;33m\u001b[0m\u001b[1;33m\u001b[0m\u001b[0m\n\u001b[0;32m   1605\u001b[0m             \u001b[1;31m# Sessions not supported.\u001b[0m\u001b[1;33m\u001b[0m\u001b[1;33m\u001b[0m\u001b[1;33m\u001b[0m\u001b[0m\n",
      "\u001b[1;32m~\\Anaconda3\\lib\\site-packages\\pymongo\\mongo_client.py\u001b[0m in \u001b[0;36m__start_session\u001b[1;34m(self, implicit, **kwargs)\u001b[0m\n\u001b[0;32m   1551\u001b[0m     \u001b[1;32mdef\u001b[0m \u001b[0m__start_session\u001b[0m\u001b[1;33m(\u001b[0m\u001b[0mself\u001b[0m\u001b[1;33m,\u001b[0m \u001b[0mimplicit\u001b[0m\u001b[1;33m,\u001b[0m \u001b[1;33m**\u001b[0m\u001b[0mkwargs\u001b[0m\u001b[1;33m)\u001b[0m\u001b[1;33m:\u001b[0m\u001b[1;33m\u001b[0m\u001b[1;33m\u001b[0m\u001b[0m\n\u001b[0;32m   1552\u001b[0m         \u001b[1;31m# Raises ConfigurationError if sessions are not supported.\u001b[0m\u001b[1;33m\u001b[0m\u001b[1;33m\u001b[0m\u001b[1;33m\u001b[0m\u001b[0m\n\u001b[1;32m-> 1553\u001b[1;33m         \u001b[0mserver_session\u001b[0m \u001b[1;33m=\u001b[0m \u001b[0mself\u001b[0m\u001b[1;33m.\u001b[0m\u001b[0m_get_server_session\u001b[0m\u001b[1;33m(\u001b[0m\u001b[1;33m)\u001b[0m\u001b[1;33m\u001b[0m\u001b[1;33m\u001b[0m\u001b[0m\n\u001b[0m\u001b[0;32m   1554\u001b[0m         \u001b[0mopts\u001b[0m \u001b[1;33m=\u001b[0m \u001b[0mclient_session\u001b[0m\u001b[1;33m.\u001b[0m\u001b[0mSessionOptions\u001b[0m\u001b[1;33m(\u001b[0m\u001b[1;33m**\u001b[0m\u001b[0mkwargs\u001b[0m\u001b[1;33m)\u001b[0m\u001b[1;33m\u001b[0m\u001b[1;33m\u001b[0m\u001b[0m\n\u001b[0;32m   1555\u001b[0m         return client_session.ClientSession(\n",
      "\u001b[1;32m~\\Anaconda3\\lib\\site-packages\\pymongo\\mongo_client.py\u001b[0m in \u001b[0;36m_get_server_session\u001b[1;34m(self)\u001b[0m\n\u001b[0;32m   1587\u001b[0m     \u001b[1;32mdef\u001b[0m \u001b[0m_get_server_session\u001b[0m\u001b[1;33m(\u001b[0m\u001b[0mself\u001b[0m\u001b[1;33m)\u001b[0m\u001b[1;33m:\u001b[0m\u001b[1;33m\u001b[0m\u001b[1;33m\u001b[0m\u001b[0m\n\u001b[0;32m   1588\u001b[0m         \u001b[1;34m\"\"\"Internal: start or resume a _ServerSession.\"\"\"\u001b[0m\u001b[1;33m\u001b[0m\u001b[1;33m\u001b[0m\u001b[0m\n\u001b[1;32m-> 1589\u001b[1;33m         \u001b[1;32mreturn\u001b[0m \u001b[0mself\u001b[0m\u001b[1;33m.\u001b[0m\u001b[0m_topology\u001b[0m\u001b[1;33m.\u001b[0m\u001b[0mget_server_session\u001b[0m\u001b[1;33m(\u001b[0m\u001b[1;33m)\u001b[0m\u001b[1;33m\u001b[0m\u001b[1;33m\u001b[0m\u001b[0m\n\u001b[0m\u001b[0;32m   1590\u001b[0m \u001b[1;33m\u001b[0m\u001b[0m\n\u001b[0;32m   1591\u001b[0m     \u001b[1;32mdef\u001b[0m \u001b[0m_return_server_session\u001b[0m\u001b[1;33m(\u001b[0m\u001b[0mself\u001b[0m\u001b[1;33m,\u001b[0m \u001b[0mserver_session\u001b[0m\u001b[1;33m,\u001b[0m \u001b[0mlock\u001b[0m\u001b[1;33m)\u001b[0m\u001b[1;33m:\u001b[0m\u001b[1;33m\u001b[0m\u001b[1;33m\u001b[0m\u001b[0m\n",
      "\u001b[1;32m~\\Anaconda3\\lib\\site-packages\\pymongo\\topology.py\u001b[0m in \u001b[0;36mget_server_session\u001b[1;34m(self)\u001b[0m\n\u001b[0;32m    528\u001b[0m             \u001b[1;31m# Sessions are always supported in load balanced mode.\u001b[0m\u001b[1;33m\u001b[0m\u001b[1;33m\u001b[0m\u001b[1;33m\u001b[0m\u001b[0m\n\u001b[0;32m    529\u001b[0m             \u001b[1;32mif\u001b[0m \u001b[1;32mnot\u001b[0m \u001b[0mself\u001b[0m\u001b[1;33m.\u001b[0m\u001b[0m_settings\u001b[0m\u001b[1;33m.\u001b[0m\u001b[0mload_balanced\u001b[0m\u001b[1;33m:\u001b[0m\u001b[1;33m\u001b[0m\u001b[1;33m\u001b[0m\u001b[0m\n\u001b[1;32m--> 530\u001b[1;33m                 \u001b[0msession_timeout\u001b[0m \u001b[1;33m=\u001b[0m \u001b[0mself\u001b[0m\u001b[1;33m.\u001b[0m\u001b[0m_check_session_support\u001b[0m\u001b[1;33m(\u001b[0m\u001b[1;33m)\u001b[0m\u001b[1;33m\u001b[0m\u001b[1;33m\u001b[0m\u001b[0m\n\u001b[0m\u001b[0;32m    531\u001b[0m             \u001b[1;32melse\u001b[0m\u001b[1;33m:\u001b[0m\u001b[1;33m\u001b[0m\u001b[1;33m\u001b[0m\u001b[0m\n\u001b[0;32m    532\u001b[0m                 \u001b[1;31m# Sessions never time out in load balanced mode.\u001b[0m\u001b[1;33m\u001b[0m\u001b[1;33m\u001b[0m\u001b[1;33m\u001b[0m\u001b[0m\n",
      "\u001b[1;32m~\\Anaconda3\\lib\\site-packages\\pymongo\\topology.py\u001b[0m in \u001b[0;36m_check_session_support\u001b[1;34m(self)\u001b[0m\n\u001b[0;32m    515\u001b[0m                     \u001b[0mreadable_server_selector\u001b[0m\u001b[1;33m,\u001b[0m\u001b[1;33m\u001b[0m\u001b[1;33m\u001b[0m\u001b[0m\n\u001b[0;32m    516\u001b[0m                     \u001b[0mself\u001b[0m\u001b[1;33m.\u001b[0m\u001b[0m_settings\u001b[0m\u001b[1;33m.\u001b[0m\u001b[0mserver_selection_timeout\u001b[0m\u001b[1;33m,\u001b[0m\u001b[1;33m\u001b[0m\u001b[1;33m\u001b[0m\u001b[0m\n\u001b[1;32m--> 517\u001b[1;33m                     None)\n\u001b[0m\u001b[0;32m    518\u001b[0m \u001b[1;33m\u001b[0m\u001b[0m\n\u001b[0;32m    519\u001b[0m             \u001b[0msession_timeout\u001b[0m \u001b[1;33m=\u001b[0m \u001b[0mself\u001b[0m\u001b[1;33m.\u001b[0m\u001b[0m_description\u001b[0m\u001b[1;33m.\u001b[0m\u001b[0mlogical_session_timeout_minutes\u001b[0m\u001b[1;33m\u001b[0m\u001b[1;33m\u001b[0m\u001b[0m\n",
      "\u001b[1;32m~\\Anaconda3\\lib\\site-packages\\pymongo\\topology.py\u001b[0m in \u001b[0;36m_select_servers_loop\u001b[1;34m(self, selector, timeout, address)\u001b[0m\n\u001b[0;32m    216\u001b[0m                 raise ServerSelectionTimeoutError(\n\u001b[0;32m    217\u001b[0m                     \u001b[1;34m\"%s, Timeout: %ss, Topology Description: %r\"\u001b[0m \u001b[1;33m%\u001b[0m\u001b[1;33m\u001b[0m\u001b[1;33m\u001b[0m\u001b[0m\n\u001b[1;32m--> 218\u001b[1;33m                     (self._error_message(selector), timeout, self.description))\n\u001b[0m\u001b[0;32m    219\u001b[0m \u001b[1;33m\u001b[0m\u001b[0m\n\u001b[0;32m    220\u001b[0m             \u001b[0mself\u001b[0m\u001b[1;33m.\u001b[0m\u001b[0m_ensure_opened\u001b[0m\u001b[1;33m(\u001b[0m\u001b[1;33m)\u001b[0m\u001b[1;33m\u001b[0m\u001b[1;33m\u001b[0m\u001b[0m\n",
      "\u001b[1;31mServerSelectionTimeoutError\u001b[0m: localhost:27017: [WinError 10061] 無法連線，因為目標電腦拒絕連線。, Timeout: 30s, Topology Description: <TopologyDescription id: 61d6835847312e0e391b1b42, topology_type: Unknown, servers: [<ServerDescription ('localhost', 27017) server_type: Unknown, rtt: None, error=AutoReconnect('localhost:27017: [WinError 10061] 無法連線，因為目標電腦拒絕連線。')>]>"
     ]
    }
   ],
   "source": [
    "client=pymongo.MongoClient('localhost',27017)\n",
    "mydb=client['db']\n",
    "INFO=mydb['info']\n",
    "print(tmp1['CID'])\n",
    "\n"
   ]
  },
  {
   "cell_type": "code",
   "execution_count": 32,
   "metadata": {},
   "outputs": [
    {
     "name": "stdout",
     "output_type": "stream",
     "text": [
      "{'CID': 0, 'product': '感謝祭67折起｜台北｜旅森山｜加州露營車自駕體驗｜台北取車', 'ref': '/zh-TW/activity/58082-campervan-self-driving-experience-taipei/', 'cnt': '18 則評價 | 50+ 人參加過', 'score': '5.0'}\n",
      "{'PID': '58082', 'word': '接待人員講得很仔細耗時30-40分鐘講解車子的使用\\n客服人員透過Line從訂好後（行前）出發到整個旅程結束都很nice幫忙回應問題\\n讓我們從需要打包什麼到一路上車子遇到使用困惑\\n都可以速速得知如何應對\\n露營車比較大台（第一次開這麼大的車）\\n開起來其實比想像中容易\\n不過停車格需要找大一些而且沒有高度限制的\\n規劃旅程時要考慮到\\n露營車旅程彈性也不受下雨影響\\n是非常有趣的體驗', 'rate': 5.0}\n",
      "{'PID': '58082', 'word': '旅森山的服務真的很好，我們剛回台灣不熟，他們很有耐心的回答我們所有問題。讓我們很放心。\\n這是一個難忘旅程，車子開哪就覺的家就在哪，上山下海很近大自然，身心都很放鬆。\\n我們一家三口（小孩四歲）住的很舒服。有冷氣，在營地插電，很舒服。床是硬一點的但我滿喜歡，下層給小孩的墊子雖然分兩片無法綁一起，但孩子還是睡得不錯。路上也碰到很多開露營車的人，大家聊聊共同興趣，感覺很好', 'rate': 5.0}\n",
      "{'PID': '58082', 'word': '這是次第一次駕駛露營車露營，因為車上配備齊全，讓我們感到相當安心與放鬆！並且深怕孩子再大些，可能就無法像現在這樣高配合度的到處睡到處玩。因此果斷租下，享受了這次愉快的時光！\\n\\n下午若想再露營車出遊，一定指名旅森山！', 'rate': 5.0}\n",
      "{'PID': '58082', 'word': '非常滿意！有問題傳line都可以即時收到回應, 車上也有暖氣和冷氣 冬天夏天都很適合！ 床也不會太小！ 車尾帳兩人使用剛剛好 整體非常推薦♥️', 'rate': 5.0}\n",
      "{'PID': '58082', 'word': '完美的公路之旅，超值的親子回憶！一同在車裡慶生、一同看電影、一同勇闖蘇花公路、一同聽high歌車震、一同車後帳享受清晨！', 'rate': 5.0}\n",
      "{'PID': '58082', 'word': '車上的東西應有盡有，冰箱、投影機、風扇、床墊、棉被、藍芽喇叭、遮光布等 身高較高的人還可以延長床墊，男友175公分綽綽有餘，床墊很好睡，棉被也夠暖和 車子也有付110v插座跟USB插孔，完全不用帶行動電源，十分夠用 幾個小建議就是，風扇那塊是沒有窗戶的，在行車過程中，風聲比較吵雜 還有一個是車內使用投影機時，沒有良好的位置或平台能架設，焦距跟大小比較不好調 這趟旅程，體驗過後難以忘懷，隨時可以停下來享受大自然美景，超開心，推薦給想邊玩邊睡的人', 'rate': 5.0}\n",
      "{'PID': '58082', 'word': '旅森山客服非常貼心仔細，每當我們遇到對露營器材不熟悉有狀況時，都在很短時間內回覆處理。\\n車況不錯，駕駛中沒有遇到太多困難，沒有駕駛大型車體經驗也能很好上手。\\n建議自己要額外攜帶車外用的營燈，只靠車內的燈光有點不足。\\n不是露營老手的話，還是建議找有水有電有衛浴設備的露營區，會比較適合', 'rate': 5.0}\n",
      "{'PID': '58082', 'word': '客服回覆速度超快，出發前的問題回應也很細心完整，如果自己帶點佈置的東西還可以打造跟別人不一樣的風格，接待Vincent 解釋得很清楚又貼心，謝謝你們，超好玩！', 'rate': 5.0}\n",
      "{'PID': '58082', 'word': '比較過不少家露營車，雖然價格不是最便宜，不過肯定是最好看的！內裝有不少木作，只要自己帶一點裝飾（燈飾、露營風毛毯）PO上IG整個會被朋友問爆，加個油也被問，默默遇到很多露營同好。如果有遇到車子任何問題，可以用Line詢問，他們24小時有人在，回覆迅速又專業，令人感到非常安心！推薦花蓮加利利海露營區，海景第一排，睡醒就可以看到整片海，超美超療癒，很值得的一趟旅行！', 'rate': 5.0}\n",
      "{'PID': '58082', 'word': '謝謝你們！\\n這樣的生活給我們很多力量\\n細心的服務', 'rate': 5.0}\n"
     ]
    },
    {
     "ename": "TypeError",
     "evalue": "'Collection' object is not callable. If you meant to call the 'insert' method on a 'Collection' object it is failing because no such method exists.",
     "output_type": "error",
     "traceback": [
      "\u001b[1;31m---------------------------------------------------------------------------\u001b[0m",
      "\u001b[1;31mTypeError\u001b[0m                                 Traceback (most recent call last)",
      "\u001b[1;32m<ipython-input-32-5605a1217110>\u001b[0m in \u001b[0;36m<module>\u001b[1;34m\u001b[0m\n\u001b[0;32m     13\u001b[0m     \u001b[0mdata\u001b[0m\u001b[1;33m=\u001b[0m\u001b[1;33m[\u001b[0m\u001b[1;33m]\u001b[0m\u001b[1;33m;\u001b[0m \u001b[0mtmp1\u001b[0m\u001b[1;33m=\u001b[0m\u001b[1;33m{\u001b[0m\u001b[1;33m}\u001b[0m\u001b[1;33m;\u001b[0m \u001b[0mtmp2\u001b[0m\u001b[1;33m=\u001b[0m\u001b[1;33m{\u001b[0m\u001b[1;33m}\u001b[0m\u001b[1;33m\u001b[0m\u001b[1;33m\u001b[0m\u001b[0m\n\u001b[0;32m     14\u001b[0m     \u001b[0mALLdic2\u001b[0m\u001b[1;33m=\u001b[0m\u001b[1;33m{\u001b[0m\u001b[1;33m}\u001b[0m\u001b[1;33m;\u001b[0m\u001b[0malldict2\u001b[0m\u001b[1;33m=\u001b[0m\u001b[1;33m[\u001b[0m\u001b[1;33m]\u001b[0m\u001b[1;33m\u001b[0m\u001b[1;33m\u001b[0m\u001b[0m\n\u001b[1;32m---> 15\u001b[1;33m     \u001b[0mrequest\u001b[0m\u001b[1;33m(\u001b[0m\u001b[1;34m'product'\u001b[0m\u001b[1;33m,\u001b[0m\u001b[0mstart\u001b[0m\u001b[1;33m,\u001b[0m\u001b[0mNO\u001b[0m\u001b[1;33m)\u001b[0m\u001b[1;33m\u001b[0m\u001b[1;33m\u001b[0m\u001b[0m\n\u001b[0m\u001b[0;32m     16\u001b[0m     \u001b[0mshow\u001b[0m\u001b[1;33m(\u001b[0m\u001b[0mdata\u001b[0m\u001b[1;33m)\u001b[0m\u001b[1;33m\u001b[0m\u001b[1;33m\u001b[0m\u001b[0m\n\u001b[0;32m     17\u001b[0m \u001b[1;33m\u001b[0m\u001b[0m\n",
      "\u001b[1;32m<ipython-input-4-bd2972c4511d>\u001b[0m in \u001b[0;36mrequest\u001b[1;34m(key, num, tag)\u001b[0m\n\u001b[0;32m     10\u001b[0m             \u001b[0mtime\u001b[0m\u001b[1;33m.\u001b[0m\u001b[0msleep\u001b[0m\u001b[1;33m(\u001b[0m\u001b[1;36m5\u001b[0m\u001b[1;33m)\u001b[0m\u001b[1;33m\u001b[0m\u001b[1;33m\u001b[0m\u001b[0m\n\u001b[0;32m     11\u001b[0m             \u001b[1;32mif\u001b[0m \u001b[0murl\u001b[0m\u001b[1;33m.\u001b[0m\u001b[0mstatus_code\u001b[0m\u001b[1;33m==\u001b[0m\u001b[1;36m200\u001b[0m\u001b[1;33m:\u001b[0m\u001b[1;33m\u001b[0m\u001b[1;33m\u001b[0m\u001b[0m\n\u001b[1;32m---> 12\u001b[1;33m                 \u001b[0mgetList\u001b[0m\u001b[1;33m(\u001b[0m\u001b[0murl\u001b[0m\u001b[1;33m)\u001b[0m\u001b[1;33m\u001b[0m\u001b[1;33m\u001b[0m\u001b[0m\n\u001b[0m\u001b[0;32m     13\u001b[0m \u001b[1;33m\u001b[0m\u001b[0m\n\u001b[0;32m     14\u001b[0m     \u001b[1;32melif\u001b[0m \u001b[0mkey\u001b[0m\u001b[1;33m==\u001b[0m\u001b[1;34m'comment'\u001b[0m\u001b[1;33m:\u001b[0m\u001b[1;33m\u001b[0m\u001b[1;33m\u001b[0m\u001b[0m\n",
      "\u001b[1;32m<ipython-input-6-bc79ebad3a74>\u001b[0m in \u001b[0;36mgetList\u001b[1;34m(url)\u001b[0m\n\u001b[0;32m      9\u001b[0m         \u001b[0mpid\u001b[0m\u001b[1;33m=\u001b[0m\u001b[0mtimes\u001b[0m\u001b[1;33m\u001b[0m\u001b[1;33m\u001b[0m\u001b[0m\n\u001b[0;32m     10\u001b[0m         \u001b[0msaveData\u001b[0m\u001b[1;33m(\u001b[0m\u001b[1;33m[\u001b[0m\u001b[0mpid\u001b[0m\u001b[1;33m,\u001b[0m\u001b[0mname\u001b[0m\u001b[1;33m,\u001b[0m\u001b[0mlink\u001b[0m\u001b[1;33m,\u001b[0m\u001b[0mtalkcnt\u001b[0m\u001b[1;33m,\u001b[0m\u001b[0mstar\u001b[0m\u001b[1;33m]\u001b[0m\u001b[1;33m,\u001b[0m\u001b[1;36m0\u001b[0m\u001b[1;33m)\u001b[0m\u001b[1;33m\u001b[0m\u001b[1;33m\u001b[0m\u001b[0m\n\u001b[1;32m---> 11\u001b[1;33m         \u001b[0mparse\u001b[0m\u001b[1;33m(\u001b[0m\u001b[0mlink\u001b[0m\u001b[1;33m,\u001b[0m\u001b[0mtalkcnt\u001b[0m\u001b[1;33m)\u001b[0m\u001b[1;33m\u001b[0m\u001b[1;33m\u001b[0m\u001b[0m\n\u001b[0m\u001b[0;32m     12\u001b[0m         \u001b[0mtimes\u001b[0m\u001b[1;33m+=\u001b[0m\u001b[1;36m1\u001b[0m\u001b[1;33m\u001b[0m\u001b[1;33m\u001b[0m\u001b[0m\n\u001b[0;32m     13\u001b[0m \u001b[1;33m\u001b[0m\u001b[0m\n",
      "\u001b[1;32m<ipython-input-5-d3a639ef0983>\u001b[0m in \u001b[0;36mparse\u001b[1;34m(link, cnt)\u001b[0m\n\u001b[0;32m     11\u001b[0m         \u001b[0mpage\u001b[0m\u001b[1;33m=\u001b[0m\u001b[0mint\u001b[0m\u001b[1;33m(\u001b[0m\u001b[0mcnt\u001b[0m\u001b[1;33m/\u001b[0m\u001b[1;36m10\u001b[0m\u001b[1;33m)\u001b[0m\u001b[1;33m+\u001b[0m\u001b[1;36m1\u001b[0m\u001b[1;33m\u001b[0m\u001b[1;33m\u001b[0m\u001b[0m\n\u001b[0;32m     12\u001b[0m    \u001b[1;31m# print(actID,cnt,page)\u001b[0m\u001b[1;33m\u001b[0m\u001b[1;33m\u001b[0m\u001b[1;33m\u001b[0m\u001b[0m\n\u001b[1;32m---> 13\u001b[1;33m     \u001b[0mrequest\u001b[0m\u001b[1;33m(\u001b[0m\u001b[1;34m'comment'\u001b[0m\u001b[1;33m,\u001b[0m\u001b[1;36m1\u001b[0m\u001b[1;33m,\u001b[0m\u001b[0mactID\u001b[0m\u001b[1;33m)\u001b[0m\u001b[1;33m\u001b[0m\u001b[1;33m\u001b[0m\u001b[0m\n\u001b[0m\u001b[0;32m     14\u001b[0m \u001b[1;33m\u001b[0m\u001b[0m\n",
      "\u001b[1;32m<ipython-input-4-bd2972c4511d>\u001b[0m in \u001b[0;36mrequest\u001b[1;34m(key, num, tag)\u001b[0m\n\u001b[0;32m     23\u001b[0m         \u001b[0mprint\u001b[0m\u001b[1;33m(\u001b[0m\u001b[1;34m'try again'\u001b[0m\u001b[1;33m)\u001b[0m\u001b[1;33m\u001b[0m\u001b[1;33m\u001b[0m\u001b[0m\n\u001b[0;32m     24\u001b[0m \u001b[1;33m\u001b[0m\u001b[0m\n\u001b[1;32m---> 25\u001b[1;33m     \u001b[0msaveData\u001b[0m\u001b[1;33m(\u001b[0m\u001b[1;34m\"\"\u001b[0m\u001b[1;33m,\u001b[0m\u001b[1;36m2\u001b[0m\u001b[1;33m)\u001b[0m\u001b[1;33m\u001b[0m\u001b[1;33m\u001b[0m\u001b[0m\n\u001b[0m\u001b[0;32m     26\u001b[0m \u001b[1;31m#soup=BeautifulSoup(url.text,'html.parser')\u001b[0m\u001b[1;33m\u001b[0m\u001b[1;33m\u001b[0m\u001b[1;33m\u001b[0m\u001b[0m\n\u001b[0;32m     27\u001b[0m \u001b[1;31m#soup.find_all('h3',class_='activity-card-title')\u001b[0m\u001b[1;33m\u001b[0m\u001b[1;33m\u001b[0m\u001b[1;33m\u001b[0m\u001b[0m\n",
      "\u001b[1;32m<ipython-input-21-3c59a1484a33>\u001b[0m in \u001b[0;36msaveData\u001b[1;34m(arg, key)\u001b[0m\n\u001b[0;32m     21\u001b[0m     \u001b[1;32melif\u001b[0m \u001b[0mkey\u001b[0m\u001b[1;33m==\u001b[0m\u001b[1;36m2\u001b[0m\u001b[1;33m:\u001b[0m\u001b[1;33m\u001b[0m\u001b[1;33m\u001b[0m\u001b[0m\n\u001b[0;32m     22\u001b[0m         \u001b[0mdata\u001b[0m\u001b[1;33m.\u001b[0m\u001b[0mappend\u001b[0m\u001b[1;33m(\u001b[0m\u001b[1;33m[\u001b[0m\u001b[0mtmp1\u001b[0m\u001b[1;33m,\u001b[0m\u001b[0mALLdic2\u001b[0m\u001b[1;33m]\u001b[0m\u001b[1;33m)\u001b[0m\u001b[1;33m\u001b[0m\u001b[1;33m\u001b[0m\u001b[0m\n\u001b[1;32m---> 23\u001b[1;33m         \u001b[0mtoDB\u001b[0m\u001b[1;33m(\u001b[0m\u001b[0mtmp1\u001b[0m\u001b[1;33m,\u001b[0m\u001b[0mALLdic2\u001b[0m\u001b[1;33m)\u001b[0m\u001b[1;33m\u001b[0m\u001b[1;33m\u001b[0m\u001b[0m\n\u001b[0m\u001b[0;32m     24\u001b[0m         \u001b[0malldict2\u001b[0m\u001b[1;33m.\u001b[0m\u001b[0mclear\u001b[0m\u001b[1;33m(\u001b[0m\u001b[1;33m)\u001b[0m\u001b[1;33m\u001b[0m\u001b[1;33m\u001b[0m\u001b[0m\n\u001b[0;32m     25\u001b[0m     \u001b[1;32melse\u001b[0m\u001b[1;33m:\u001b[0m\u001b[1;33m\u001b[0m\u001b[1;33m\u001b[0m\u001b[0m\n",
      "\u001b[1;32m<ipython-input-31-ab52a46f8a82>\u001b[0m in \u001b[0;36mtoDB\u001b[1;34m(dic1, dic2)\u001b[0m\n\u001b[0;32m      5\u001b[0m \u001b[1;32mdef\u001b[0m \u001b[0mtoDB\u001b[0m\u001b[1;33m(\u001b[0m\u001b[0mdic1\u001b[0m\u001b[1;33m,\u001b[0m\u001b[0mdic2\u001b[0m\u001b[1;33m)\u001b[0m\u001b[1;33m:\u001b[0m\u001b[1;33m\u001b[0m\u001b[1;33m\u001b[0m\u001b[0m\n\u001b[0;32m      6\u001b[0m     \u001b[0mdic1\u001b[0m\u001b[1;33m.\u001b[0m\u001b[0mupdate\u001b[0m\u001b[1;33m(\u001b[0m\u001b[0mdic2\u001b[0m\u001b[1;33m)\u001b[0m\u001b[1;33m\u001b[0m\u001b[1;33m\u001b[0m\u001b[0m\n\u001b[1;32m----> 7\u001b[1;33m     \u001b[0mrlt\u001b[0m\u001b[1;33m=\u001b[0m\u001b[0mINFO\u001b[0m\u001b[1;33m.\u001b[0m\u001b[0minsert\u001b[0m\u001b[1;33m(\u001b[0m\u001b[0mdic1\u001b[0m\u001b[1;33m)\u001b[0m\u001b[1;33m\u001b[0m\u001b[1;33m\u001b[0m\u001b[0m\n\u001b[0m",
      "\u001b[1;32m~\\Anaconda3\\lib\\site-packages\\pymongo\\collection.py\u001b[0m in \u001b[0;36m__call__\u001b[1;34m(self, *args, **kwargs)\u001b[0m\n\u001b[0;32m   2585\u001b[0m                         \u001b[1;34m\"call the '%s' method on a 'Collection' object it is \"\u001b[0m\u001b[1;33m\u001b[0m\u001b[1;33m\u001b[0m\u001b[0m\n\u001b[0;32m   2586\u001b[0m                         \u001b[1;34m\"failing because no such method exists.\"\u001b[0m \u001b[1;33m%\u001b[0m\u001b[1;33m\u001b[0m\u001b[1;33m\u001b[0m\u001b[0m\n\u001b[1;32m-> 2587\u001b[1;33m                         self.__name.split(\".\")[-1])\n\u001b[0m",
      "\u001b[1;31mTypeError\u001b[0m: 'Collection' object is not callable. If you meant to call the 'insert' method on a 'Collection' object it is failing because no such method exists."
     ]
    }
   ],
   "source": [
    "import requests\n",
    "from bs4 import BeautifulSoup\n",
    "import random\n",
    "import time\n",
    "if __name__=='__main__':\n",
    "    headers={'user-agent':'Mozilla/5.0 (Linux; Android 6.0; Nexus 5 Build/MRA58N) AppleWebKit/537.36 (KHTML, like Gecko) Chrome/96.0.4664.93 Mobile Safari/537.36',\n",
    "         'accept-language': 'zh_TW'}\n",
    "    proxy=['60.251.62.27','47.243.196.231','54.37.160.93','199.19.226.12','160.16.233.90','36.234.46.7','23.254.250.94']\n",
    "    domain='https://www.klook.com'\n",
    "    start=1\n",
    "    NO=0\n",
    "    times=0\n",
    "    data=[]; tmp1={}; tmp2={}\n",
    "    ALLdic2={};alldict2=[]\n",
    "    request('product',start,NO)\n",
    "    show(data)\n",
    "    "
   ]
  },
  {
   "cell_type": "markdown",
   "metadata": {},
   "source": [
    "# 分析資料"
   ]
  }
 ],
 "metadata": {
  "kernelspec": {
   "display_name": "Python 3",
   "language": "python",
   "name": "python3"
  },
  "language_info": {
   "codemirror_mode": {
    "name": "ipython",
    "version": 3
   },
   "file_extension": ".py",
   "mimetype": "text/x-python",
   "name": "python",
   "nbconvert_exporter": "python",
   "pygments_lexer": "ipython3",
   "version": "3.7.3"
  }
 },
 "nbformat": 4,
 "nbformat_minor": 2
}
